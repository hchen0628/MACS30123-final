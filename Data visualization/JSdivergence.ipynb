{
 "cells": [
  {
   "cell_type": "code",
   "execution_count": 1,
   "id": "5e247427-3a02-49bc-8fc3-d66a7e825200",
   "metadata": {},
   "outputs": [],
   "source": [
    "import pandas as pd\n",
    "import numpy as np\n",
    "from scipy.spatial.distance import jensenshannon\n",
    "from scipy.stats import wasserstein_distance"
   ]
  },
  {
   "cell_type": "code",
   "execution_count": 9,
   "id": "fe3c3729-af49-4a17-8e76-d2c2824563c7",
   "metadata": {},
   "outputs": [],
   "source": [
    "df_true = pd.read_csv('Xtrue.csv')\n",
    "df_gen = pd.read_csv('Xgen_ver2.csv')"
   ]
  },
  {
   "cell_type": "code",
   "execution_count": 10,
   "id": "a957ebbf-789f-4a46-8744-7bf6e6d98512",
   "metadata": {},
   "outputs": [
    {
     "data": {
      "text/html": [
       "<div>\n",
       "<style scoped>\n",
       "    .dataframe tbody tr th:only-of-type {\n",
       "        vertical-align: middle;\n",
       "    }\n",
       "\n",
       "    .dataframe tbody tr th {\n",
       "        vertical-align: top;\n",
       "    }\n",
       "\n",
       "    .dataframe thead th {\n",
       "        text-align: right;\n",
       "    }\n",
       "</style>\n",
       "<table border=\"1\" class=\"dataframe\">\n",
       "  <thead>\n",
       "    <tr style=\"text-align: right;\">\n",
       "      <th></th>\n",
       "      <th>Unnamed: 0</th>\n",
       "      <th>state</th>\n",
       "      <th>sex</th>\n",
       "      <th>race</th>\n",
       "      <th>marst</th>\n",
       "      <th>famsize</th>\n",
       "      <th>bpl</th>\n",
       "      <th>citizen</th>\n",
       "      <th>hispan</th>\n",
       "      <th>health</th>\n",
       "      <th>sect</th>\n",
       "      <th>schoolyr</th>\n",
       "      <th>age</th>\n",
       "    </tr>\n",
       "  </thead>\n",
       "  <tbody>\n",
       "    <tr>\n",
       "      <th>0</th>\n",
       "      <td>0</td>\n",
       "      <td>29.0</td>\n",
       "      <td>0.0</td>\n",
       "      <td>1.0</td>\n",
       "      <td>1.0</td>\n",
       "      <td>2.0</td>\n",
       "      <td>1.0</td>\n",
       "      <td>1.0</td>\n",
       "      <td>0.0</td>\n",
       "      <td>3.0</td>\n",
       "      <td>2.0</td>\n",
       "      <td>16.0</td>\n",
       "      <td>42.0</td>\n",
       "    </tr>\n",
       "    <tr>\n",
       "      <th>1</th>\n",
       "      <td>1</td>\n",
       "      <td>38.0</td>\n",
       "      <td>1.0</td>\n",
       "      <td>1.0</td>\n",
       "      <td>1.0</td>\n",
       "      <td>4.0</td>\n",
       "      <td>1.0</td>\n",
       "      <td>1.0</td>\n",
       "      <td>0.0</td>\n",
       "      <td>1.0</td>\n",
       "      <td>5.0</td>\n",
       "      <td>16.0</td>\n",
       "      <td>42.0</td>\n",
       "    </tr>\n",
       "    <tr>\n",
       "      <th>2</th>\n",
       "      <td>2</td>\n",
       "      <td>48.0</td>\n",
       "      <td>0.0</td>\n",
       "      <td>1.0</td>\n",
       "      <td>1.0</td>\n",
       "      <td>6.0</td>\n",
       "      <td>1.0</td>\n",
       "      <td>1.0</td>\n",
       "      <td>0.0</td>\n",
       "      <td>3.0</td>\n",
       "      <td>4.0</td>\n",
       "      <td>13.0</td>\n",
       "      <td>51.0</td>\n",
       "    </tr>\n",
       "    <tr>\n",
       "      <th>3</th>\n",
       "      <td>3</td>\n",
       "      <td>13.0</td>\n",
       "      <td>1.0</td>\n",
       "      <td>1.0</td>\n",
       "      <td>0.0</td>\n",
       "      <td>4.0</td>\n",
       "      <td>2.0</td>\n",
       "      <td>0.0</td>\n",
       "      <td>1.0</td>\n",
       "      <td>1.0</td>\n",
       "      <td>0.0</td>\n",
       "      <td>9.0</td>\n",
       "      <td>43.0</td>\n",
       "    </tr>\n",
       "    <tr>\n",
       "      <th>4</th>\n",
       "      <td>4</td>\n",
       "      <td>8.0</td>\n",
       "      <td>1.0</td>\n",
       "      <td>1.0</td>\n",
       "      <td>1.0</td>\n",
       "      <td>5.0</td>\n",
       "      <td>1.0</td>\n",
       "      <td>1.0</td>\n",
       "      <td>0.0</td>\n",
       "      <td>3.0</td>\n",
       "      <td>5.0</td>\n",
       "      <td>18.0</td>\n",
       "      <td>41.0</td>\n",
       "    </tr>\n",
       "  </tbody>\n",
       "</table>\n",
       "</div>"
      ],
      "text/plain": [
       "   Unnamed: 0  state  sex  race  marst  famsize  bpl  citizen  hispan  health  \\\n",
       "0           0   29.0  0.0   1.0    1.0      2.0  1.0      1.0     0.0     3.0   \n",
       "1           1   38.0  1.0   1.0    1.0      4.0  1.0      1.0     0.0     1.0   \n",
       "2           2   48.0  0.0   1.0    1.0      6.0  1.0      1.0     0.0     3.0   \n",
       "3           3   13.0  1.0   1.0    0.0      4.0  2.0      0.0     1.0     1.0   \n",
       "4           4    8.0  1.0   1.0    1.0      5.0  1.0      1.0     0.0     3.0   \n",
       "\n",
       "   sect  schoolyr   age  \n",
       "0   2.0      16.0  42.0  \n",
       "1   5.0      16.0  42.0  \n",
       "2   4.0      13.0  51.0  \n",
       "3   0.0       9.0  43.0  \n",
       "4   5.0      18.0  41.0  "
      ]
     },
     "execution_count": 10,
     "metadata": {},
     "output_type": "execute_result"
    }
   ],
   "source": [
    "df_gen.head()"
   ]
  },
  {
   "cell_type": "code",
   "execution_count": 11,
   "id": "e7e32cf4-050d-4104-8c18-277d9fd500f4",
   "metadata": {},
   "outputs": [
    {
     "data": {
      "text/html": [
       "<div>\n",
       "<style scoped>\n",
       "    .dataframe tbody tr th:only-of-type {\n",
       "        vertical-align: middle;\n",
       "    }\n",
       "\n",
       "    .dataframe tbody tr th {\n",
       "        vertical-align: top;\n",
       "    }\n",
       "\n",
       "    .dataframe thead th {\n",
       "        text-align: right;\n",
       "    }\n",
       "</style>\n",
       "<table border=\"1\" class=\"dataframe\">\n",
       "  <thead>\n",
       "    <tr style=\"text-align: right;\">\n",
       "      <th></th>\n",
       "      <th>year</th>\n",
       "      <th>state</th>\n",
       "      <th>sex</th>\n",
       "      <th>race</th>\n",
       "      <th>marst</th>\n",
       "      <th>famsize</th>\n",
       "      <th>bpl</th>\n",
       "      <th>citizen</th>\n",
       "      <th>hispan</th>\n",
       "      <th>health</th>\n",
       "      <th>nextSect</th>\n",
       "      <th>sect</th>\n",
       "      <th>wage</th>\n",
       "      <th>schoolyr</th>\n",
       "      <th>age</th>\n",
       "    </tr>\n",
       "  </thead>\n",
       "  <tbody>\n",
       "    <tr>\n",
       "      <th>0</th>\n",
       "      <td>1995</td>\n",
       "      <td>23</td>\n",
       "      <td>1</td>\n",
       "      <td>1</td>\n",
       "      <td>0</td>\n",
       "      <td>3</td>\n",
       "      <td>1</td>\n",
       "      <td>1</td>\n",
       "      <td>0</td>\n",
       "      <td>1</td>\n",
       "      <td>0</td>\n",
       "      <td>0</td>\n",
       "      <td>NaN</td>\n",
       "      <td>12.0</td>\n",
       "      <td>38</td>\n",
       "    </tr>\n",
       "    <tr>\n",
       "      <th>1</th>\n",
       "      <td>1996</td>\n",
       "      <td>23</td>\n",
       "      <td>0</td>\n",
       "      <td>1</td>\n",
       "      <td>0</td>\n",
       "      <td>3</td>\n",
       "      <td>1</td>\n",
       "      <td>1</td>\n",
       "      <td>0</td>\n",
       "      <td>2</td>\n",
       "      <td>2</td>\n",
       "      <td>2</td>\n",
       "      <td>0.453636</td>\n",
       "      <td>14.0</td>\n",
       "      <td>32</td>\n",
       "    </tr>\n",
       "    <tr>\n",
       "      <th>2</th>\n",
       "      <td>1997</td>\n",
       "      <td>23</td>\n",
       "      <td>1</td>\n",
       "      <td>1</td>\n",
       "      <td>0</td>\n",
       "      <td>1</td>\n",
       "      <td>1</td>\n",
       "      <td>1</td>\n",
       "      <td>0</td>\n",
       "      <td>1</td>\n",
       "      <td>5</td>\n",
       "      <td>5</td>\n",
       "      <td>0.854772</td>\n",
       "      <td>14.0</td>\n",
       "      <td>29</td>\n",
       "    </tr>\n",
       "    <tr>\n",
       "      <th>3</th>\n",
       "      <td>1998</td>\n",
       "      <td>23</td>\n",
       "      <td>1</td>\n",
       "      <td>1</td>\n",
       "      <td>1</td>\n",
       "      <td>3</td>\n",
       "      <td>1</td>\n",
       "      <td>1</td>\n",
       "      <td>0</td>\n",
       "      <td>2</td>\n",
       "      <td>5</td>\n",
       "      <td>5</td>\n",
       "      <td>0.567462</td>\n",
       "      <td>18.0</td>\n",
       "      <td>48</td>\n",
       "    </tr>\n",
       "    <tr>\n",
       "      <th>4</th>\n",
       "      <td>1999</td>\n",
       "      <td>23</td>\n",
       "      <td>1</td>\n",
       "      <td>1</td>\n",
       "      <td>0</td>\n",
       "      <td>2</td>\n",
       "      <td>3</td>\n",
       "      <td>1</td>\n",
       "      <td>0</td>\n",
       "      <td>2</td>\n",
       "      <td>5</td>\n",
       "      <td>5</td>\n",
       "      <td>1.160019</td>\n",
       "      <td>21.0</td>\n",
       "      <td>50</td>\n",
       "    </tr>\n",
       "  </tbody>\n",
       "</table>\n",
       "</div>"
      ],
      "text/plain": [
       "   year  state  sex  race  marst  famsize  bpl  citizen  hispan  health  \\\n",
       "0  1995     23    1     1      0        3    1        1       0       1   \n",
       "1  1996     23    0     1      0        3    1        1       0       2   \n",
       "2  1997     23    1     1      0        1    1        1       0       1   \n",
       "3  1998     23    1     1      1        3    1        1       0       2   \n",
       "4  1999     23    1     1      0        2    3        1       0       2   \n",
       "\n",
       "   nextSect  sect      wage  schoolyr  age  \n",
       "0         0     0       NaN      12.0   38  \n",
       "1         2     2  0.453636      14.0   32  \n",
       "2         5     5  0.854772      14.0   29  \n",
       "3         5     5  0.567462      18.0   48  \n",
       "4         5     5  1.160019      21.0   50  "
      ]
     },
     "execution_count": 11,
     "metadata": {},
     "output_type": "execute_result"
    }
   ],
   "source": [
    "df_true.head()"
   ]
  },
  {
   "cell_type": "code",
   "execution_count": 12,
   "id": "be71bac4-9a6b-453d-84d9-eadc3d8ab5bf",
   "metadata": {},
   "outputs": [
    {
     "data": {
      "text/plain": [
       "array([0., 1.])"
      ]
     },
     "execution_count": 12,
     "metadata": {},
     "output_type": "execute_result"
    }
   ],
   "source": [
    "np.linspace(0, 1, 2)"
   ]
  },
  {
   "cell_type": "code",
   "execution_count": 28,
   "id": "2308a9f6-39a4-4e13-bed7-f12af09d66fe",
   "metadata": {},
   "outputs": [
    {
     "name": "stdout",
     "output_type": "stream",
     "text": [
      "Jensen-Shannon Divergence of Sex: 0.0\n"
     ]
    }
   ],
   "source": [
    "# Calculate histograms\n",
    "range_min, range_max = 0, 1  \n",
    "bins = np.linspace(range_min, range_max, 2) \n",
    "hist1, _ = np.histogram(df_true['sex'],  bins=bins, density=True)\n",
    "hist2, _ = np.histogram(df_gen['sex'], bins=bins, density=True)\n",
    "js_divergence = jensenshannon(hist1, hist2) ** 2\n",
    "print(\"Jensen-Shannon Divergence of Sex:\", js_divergence)"
   ]
  },
  {
   "cell_type": "code",
   "execution_count": 29,
   "id": "d8b3e8b8-e5b0-4caf-8853-6724575fb539",
   "metadata": {},
   "outputs": [
    {
     "name": "stdout",
     "output_type": "stream",
     "text": [
      "Jensen-Shannon Divergence of Marst: 0.0\n"
     ]
    }
   ],
   "source": [
    "# Calculate histograms\n",
    "range_min, range_max = 0, 1  \n",
    "bins = np.linspace(range_min, range_max, 2) \n",
    "hist1, _ = np.histogram(df_true['marst'],  bins=bins, density=True)\n",
    "hist2, _ = np.histogram(df_gen['marst'], bins=bins, density=True)\n",
    "js_divergence = jensenshannon(hist1, hist2) ** 2\n",
    "print(\"Jensen-Shannon Divergence of Marst:\", js_divergence)"
   ]
  },
  {
   "cell_type": "code",
   "execution_count": 30,
   "id": "4d7651d5-3f76-4db9-8881-28599a5558b4",
   "metadata": {},
   "outputs": [
    {
     "name": "stdout",
     "output_type": "stream",
     "text": [
      "Jensen-Shannon Divergence of Race: 3.807733889776192e-05\n"
     ]
    }
   ],
   "source": [
    "# Calculate histograms\n",
    "range_min, range_max = 1,3  \n",
    "bins = np.linspace(range_min, range_max, 3)  \n",
    "hist1, _ = np.histogram(df_true['race'],  bins=bins, density=True)\n",
    "hist2, _ = np.histogram(df_gen['race'], bins=bins, density=True)\n",
    "js_divergence = jensenshannon(hist1, hist2) ** 2\n",
    "print(\"Jensen-Shannon Divergence of Race:\", js_divergence)"
   ]
  },
  {
   "cell_type": "code",
   "execution_count": 31,
   "id": "84a4128a-4652-475b-870a-5a30c98a01b8",
   "metadata": {},
   "outputs": [
    {
     "name": "stdout",
     "output_type": "stream",
     "text": [
      "Jensen-Shannon Divergence of State: 0.038398104902532884\n"
     ]
    }
   ],
   "source": [
    "# Calculate histograms\n",
    "range_min, range_max = 1,56  \n",
    "bins = np.linspace(range_min, range_max, 56)  \n",
    "hist1, _ = np.histogram(df_true['state'],  bins=bins, density=True)\n",
    "hist2, _ = np.histogram(df_gen['state'], bins=bins, density=True)\n",
    "js_divergence = jensenshannon(hist1, hist2) ** 2\n",
    "print(\"Jensen-Shannon Divergence of State:\", js_divergence)"
   ]
  },
  {
   "cell_type": "code",
   "execution_count": 32,
   "id": "61515a72-4396-4944-962d-47491a2b9f0c",
   "metadata": {},
   "outputs": [
    {
     "name": "stdout",
     "output_type": "stream",
     "text": [
      "Jensen-Shannon Divergence of famsize: 0.009834271667270718\n"
     ]
    }
   ],
   "source": [
    "range_min, range_max = 1,16  \n",
    "bins = np.linspace(range_min, range_max, 16) \n",
    "hist1, _ = np.histogram(df_true['famsize'],  bins=bins, density=True)\n",
    "hist2, _ = np.histogram(df_gen['famsize'], bins=bins, density=True)\n",
    "js_divergence = jensenshannon(hist1, hist2) ** 2\n",
    "print(\"Jensen-Shannon Divergence of famsize:\", js_divergence)"
   ]
  },
  {
   "cell_type": "code",
   "execution_count": 33,
   "id": "887305d2-32af-4441-a1b4-9b3de2270488",
   "metadata": {},
   "outputs": [
    {
     "name": "stdout",
     "output_type": "stream",
     "text": [
      "Jensen-Shannon Divergence of bpl: 8.356455484212801e-05\n"
     ]
    }
   ],
   "source": [
    "range_min, range_max = 1,5 \n",
    "bins = np.linspace(range_min, range_max, 5)  # 100 bins\n",
    "hist1, _ = np.histogram(df_true['bpl'],  bins=bins, density=True)\n",
    "hist2, _ = np.histogram(df_gen['bpl'], bins=bins, density=True)\n",
    "js_divergence = jensenshannon(hist1, hist2) ** 2\n",
    "print(\"Jensen-Shannon Divergence of bpl:\", js_divergence)"
   ]
  },
  {
   "cell_type": "code",
   "execution_count": 34,
   "id": "6726b5d4-576d-4523-af9f-14641a7892d3",
   "metadata": {},
   "outputs": [
    {
     "name": "stdout",
     "output_type": "stream",
     "text": [
      "Jensen-Shannon Divergence of citizen: 8.228847493933746e-06\n"
     ]
    }
   ],
   "source": [
    "range_min, range_max = 0,1 \n",
    "bins = np.linspace(range_min, range_max, 5) \n",
    "hist1, _ = np.histogram(df_true['citizen'],  bins=bins, density=True)\n",
    "hist2, _ = np.histogram(df_gen['citizen'], bins=bins, density=True)\n",
    "js_divergence = jensenshannon(hist1, hist2) ** 2\n",
    "print(\"Jensen-Shannon Divergence of citizen:\", js_divergence)"
   ]
  },
  {
   "cell_type": "code",
   "execution_count": 35,
   "id": "0d83f707-f788-4f5a-80b0-48e71f066a9b",
   "metadata": {},
   "outputs": [
    {
     "name": "stdout",
     "output_type": "stream",
     "text": [
      "Jensen-Shannon Divergence of hispan: 2.6403470572393048e-05\n"
     ]
    }
   ],
   "source": [
    "range_min, range_max = 0,1 # Define suitable range based on your data characteristics\n",
    "bins = np.linspace(range_min, range_max, 5)  \n",
    "hist1, _ = np.histogram(df_true['hispan'],  bins=bins, density=True)\n",
    "hist2, _ = np.histogram(df_gen['hispan'], bins=bins, density=True)\n",
    "js_divergence = jensenshannon(hist1, hist2) ** 2\n",
    "print(\"Jensen-Shannon Divergence of hispan:\", js_divergence)"
   ]
  },
  {
   "cell_type": "code",
   "execution_count": 36,
   "id": "e9474e69-80d2-4b6e-8ab1-cd047bec1eac",
   "metadata": {},
   "outputs": [
    {
     "name": "stdout",
     "output_type": "stream",
     "text": [
      "Jensen-Shannon Divergence of health: 0.0002494835021649049\n"
     ]
    }
   ],
   "source": [
    "range_min, range_max = 1,5 \n",
    "bins = np.linspace(range_min, range_max, 5)  \n",
    "hist1, _ = np.histogram(df_true['health'],  bins=bins, density=True)\n",
    "hist2, _ = np.histogram(df_gen['health'], bins=bins, density=True)\n",
    "js_divergence = jensenshannon(hist1, hist2) ** 2\n",
    "print(\"Jensen-Shannon Divergence of health:\", js_divergence)"
   ]
  },
  {
   "cell_type": "code",
   "execution_count": 37,
   "id": "65e0872c-e0df-4855-a045-25c0bedca7f4",
   "metadata": {},
   "outputs": [
    {
     "name": "stdout",
     "output_type": "stream",
     "text": [
      "Jensen-Shannon Divergence of sector: 0.0009674165236317981\n"
     ]
    }
   ],
   "source": [
    "range_min, range_max = 0,5 \n",
    "bins = np.linspace(range_min, range_max, 6) \n",
    "hist1, _ = np.histogram(df_true['sect'],  bins=bins, density=True)\n",
    "hist2, _ = np.histogram(df_gen['sect'], bins=bins, density=True)\n",
    "js_divergence = jensenshannon(hist1, hist2) ** 2\n",
    "print(\"Jensen-Shannon Divergence of sector:\", js_divergence)"
   ]
  },
  {
   "cell_type": "code",
   "execution_count": 38,
   "id": "cbae45d2-c67e-4a93-8f61-5c42fd55b94d",
   "metadata": {},
   "outputs": [
    {
     "name": "stdout",
     "output_type": "stream",
     "text": [
      "Jensen-Shannon Divergence of schoolyr: 0.017835819248235518\n"
     ]
    }
   ],
   "source": [
    "range_min, range_max = 0,21\n",
    "bins = np.linspace(range_min, range_max, 43) \n",
    "hist1, _ = np.histogram(df_true['schoolyr'],  bins=bins, density=True)\n",
    "hist2, _ = np.histogram(df_gen['schoolyr'], bins=bins, density=True)\n",
    "js_divergence = jensenshannon(hist1, hist2) ** 2\n",
    "print(\"Jensen-Shannon Divergence of schoolyr:\", js_divergence)"
   ]
  },
  {
   "cell_type": "code",
   "execution_count": 39,
   "id": "8917cff3-1f46-473b-a9cd-6ae54b795495",
   "metadata": {},
   "outputs": [
    {
     "name": "stdout",
     "output_type": "stream",
     "text": [
      "Jensen-Shannon Divergence of age: 0.03568713560577498\n"
     ]
    }
   ],
   "source": [
    "range_min, range_max = 25,60\n",
    "bins = np.linspace(range_min, range_max, 36) \n",
    "hist1, _ = np.histogram(df_true['age'],  bins=bins, density=True)\n",
    "hist2, _ = np.histogram(df_gen['age'], bins=bins, density=True)\n",
    "js_divergence = jensenshannon(hist1, hist2) ** 2\n",
    "print(\"Jensen-Shannon Divergence of age:\", js_divergence)"
   ]
  },
  {
   "cell_type": "code",
   "execution_count": null,
   "id": "2c7f995c-72f0-4856-9ae8-0909ba35b529",
   "metadata": {},
   "outputs": [],
   "source": []
  }
 ],
 "metadata": {
  "kernelspec": {
   "display_name": "Python 3 (ipykernel)",
   "language": "python",
   "name": "python3"
  },
  "language_info": {
   "codemirror_mode": {
    "name": "ipython",
    "version": 3
   },
   "file_extension": ".py",
   "mimetype": "text/x-python",
   "name": "python",
   "nbconvert_exporter": "python",
   "pygments_lexer": "ipython3",
   "version": "3.7.9"
  }
 },
 "nbformat": 4,
 "nbformat_minor": 5
}
